{
 "cells": [
  {
   "cell_type": "markdown",
   "metadata": {},
   "source": [
    "# **World Bank Social Development Dataset:** *ETL*\n",
    "### Source: [World Bank Social Development](https://data.worldbank.org/topic/social-development?view=chart)"
   ]
  },
  {
   "cell_type": "markdown",
   "metadata": {},
   "source": [
    "#### Our questions:\n",
    "<ol>\n",
    "<li>How do the indicators differ in countries, especially in those that are labeled as low income?</li>\n",
    "<li>What is the labor force participation rate per region?</li>\n",
    "<li>What is the labor force participation rate per income group?</li>\n",
    "<li>In regions that show children under the age of 14 working and attending school, what is their literacy rate upon entering adolescence?</li>\n",
    "</ol>\n"
   ]
  },
  {
   "cell_type": "code",
   "execution_count": 3,
   "metadata": {},
   "outputs": [],
   "source": [
    "# Imports\n",
    "import pandas as pd"
   ]
  },
  {
   "cell_type": "markdown",
   "metadata": {},
   "source": [
    "### **(E)xtract the Data:**\n",
    "**REQUIRED:** *Download the data from [here](https://data.worldbank.org/topic/social-development?view=chart) and save as a CSV in `data` folder."
   ]
  },
  {
   "cell_type": "code",
   "execution_count": 4,
   "metadata": {},
   "outputs": [
    {
     "name": "stdout",
     "output_type": "stream",
     "text": [
      "  Country Name Country Code  \\\n",
      "0        Aruba          ABW   \n",
      "1        Aruba          ABW   \n",
      "2        Aruba          ABW   \n",
      "3        Aruba          ABW   \n",
      "4        Aruba          ABW   \n",
      "\n",
      "                                      Indicator Name     Indicator Code  \\\n",
      "0             Life expectancy at birth, male (years)  SP.DYN.LE00.MA.IN   \n",
      "1           Life expectancy at birth, female (years)  SP.DYN.LE00.FE.IN   \n",
      "2  Adolescent fertility rate (births per 1,000 wo...        SP.ADO.TFRT   \n",
      "3  Refugee population by country or territory of ...     SM.POP.REFG.OR   \n",
      "4  Refugee population by country or territory of ...        SM.POP.REFG   \n",
      "\n",
      "       1960      1961    1962     1963     1964     1965  ...     2018  \\\n",
      "0   64.0840   64.4290  64.747  65.0530  65.3560  65.6600  ...  73.6280   \n",
      "1   67.1290   67.6250  68.065  68.4580  68.8170  69.1650  ...  78.5070   \n",
      "2  106.2062  102.8116  99.417  94.4542  89.4914  84.5286  ...  21.1736   \n",
      "3       NaN       NaN     NaN      NaN      NaN      NaN  ...      NaN   \n",
      "4       NaN       NaN     NaN      NaN      NaN      NaN  ...      NaN   \n",
      "\n",
      "      2019     2020  2021  Unnamed: 66                     Region  \\\n",
      "0  73.7680  73.9080   NaN          NaN  Latin America & Caribbean   \n",
      "1  78.6410  78.7740   NaN          NaN  Latin America & Caribbean   \n",
      "2  19.6732  18.1728   NaN          NaN  Latin America & Caribbean   \n",
      "3      NaN      NaN   NaN          NaN  Latin America & Caribbean   \n",
      "4      NaN      NaN   NaN          NaN  Latin America & Caribbean   \n",
      "\n",
      "   IncomeGroup  SpecialNotes  TableName  Unnamed: 5  \n",
      "0  High income           NaN      Aruba         NaN  \n",
      "1  High income           NaN      Aruba         NaN  \n",
      "2  High income           NaN      Aruba         NaN  \n",
      "3  High income           NaN      Aruba         NaN  \n",
      "4  High income           NaN      Aruba         NaN  \n",
      "\n",
      "[5 rows x 72 columns]\n"
     ]
    }
   ],
   "source": [
    "# Load in csv\n",
    "data = pd.read_csv('data/API_15_DS2_en_csv_v2_4254232.csv', skiprows=4)\n",
    "region_codes = pd.read_csv('data/Metadata_Country_API_15_DS2_en_csv_v2_4254232.csv')\n",
    "\n",
    "# Merge dataset and region data files together\n",
    "data = data.merge(region_codes, how='inner', on='Country Code')\n",
    "\n",
    "# Get a couple of lines of data to make sure loaded correctly\n",
    "print(data.head())"
   ]
  },
  {
   "cell_type": "markdown",
   "metadata": {},
   "source": [
    "### **(T)ransform the Data:**\n",
    "- Remove **nonessential** columns: `Indicator Code`, `Country Code`, `SpecialNotes`, `TableName`\n",
    "- Convert individaul year columns to single **`Year`** column\n",
    "- Handle **`na`** values\n",
    "- Cast **typing** to values\n",
    "- **Rename** `Country Name` and `Indicator Name` to `Country` and `Indicator` to make consistent"
   ]
  },
  {
   "cell_type": "code",
   "execution_count": 5,
   "metadata": {},
   "outputs": [
    {
     "name": "stdout",
     "output_type": "stream",
     "text": [
      "  Country Name                                     Indicator Name      1960  \\\n",
      "0        Aruba             Life expectancy at birth, male (years)   64.0840   \n",
      "1        Aruba           Life expectancy at birth, female (years)   67.1290   \n",
      "2        Aruba  Adolescent fertility rate (births per 1,000 wo...  106.2062   \n",
      "3        Aruba  Refugee population by country or territory of ...       NaN   \n",
      "4        Aruba  Refugee population by country or territory of ...       NaN   \n",
      "\n",
      "       1961    1962     1963     1964     1965     1966    1967  ...     2016  \\\n",
      "0   64.4290  64.747  65.0530  65.3560  65.6600  65.9590  66.242  ...  73.3480   \n",
      "1   67.6250  68.065  68.4580  68.8170  69.1650  69.5260  69.917  ...  78.2370   \n",
      "2  102.8116  99.417  94.4542  89.4914  84.5286  79.5658  74.603  ...  23.8416   \n",
      "3       NaN     NaN      NaN      NaN      NaN      NaN     NaN  ...      NaN   \n",
      "4       NaN     NaN      NaN      NaN      NaN      NaN     NaN  ...      NaN   \n",
      "\n",
      "     2017     2018     2019     2020  2021  Unnamed: 66  \\\n",
      "0  73.488  73.6280  73.7680  73.9080   NaN          NaN   \n",
      "1  78.372  78.5070  78.6410  78.7740   NaN          NaN   \n",
      "2  22.674  21.1736  19.6732  18.1728   NaN          NaN   \n",
      "3     NaN      NaN      NaN      NaN   NaN          NaN   \n",
      "4     NaN      NaN      NaN      NaN   NaN          NaN   \n",
      "\n",
      "                      Region  IncomeGroup  Unnamed: 5  \n",
      "0  Latin America & Caribbean  High income         NaN  \n",
      "1  Latin America & Caribbean  High income         NaN  \n",
      "2  Latin America & Caribbean  High income         NaN  \n",
      "3  Latin America & Caribbean  High income         NaN  \n",
      "4  Latin America & Caribbean  High income         NaN  \n",
      "\n",
      "[5 rows x 68 columns]\n"
     ]
    }
   ],
   "source": [
    "# Remove nonessential columns\n",
    "data = data.drop(columns=['Indicator Code', 'Country Code', 'SpecialNotes', 'TableName'])\n",
    "\n",
    "# Get a couple of lines of data to make sure updated correctly\n",
    "print(data.head())"
   ]
  },
  {
   "cell_type": "code",
   "execution_count": 6,
   "metadata": {},
   "outputs": [
    {
     "name": "stdout",
     "output_type": "stream",
     "text": [
      "<class 'pandas.core.frame.DataFrame'>\n",
      "Int64Index: 558620 entries, 0 to 9009\n",
      "Data columns (total 6 columns):\n",
      " #   Column          Non-Null Count   Dtype  \n",
      "---  ------          --------------   -----  \n",
      " 0   Country Name    558620 non-null  object \n",
      " 1   Indicator Name  558620 non-null  object \n",
      " 2   Region          457436 non-null  object \n",
      " 3   IncomeGroup     455328 non-null  object \n",
      " 4   Year            558620 non-null  int64  \n",
      " 5   Value           200412 non-null  float64\n",
      "dtypes: float64(1), int64(1), object(4)\n",
      "memory usage: 29.8+ MB\n",
      "None\n"
     ]
    }
   ],
   "source": [
    "# Convert individual year columns into one column\n",
    "data_new = data[['Country Name', 'Indicator Name', 'Region', 'IncomeGroup']]\n",
    "years = []\n",
    "for year in range(1960, 2022):\n",
    "    this_year = data_new.copy()\n",
    "    this_year['Year'] = year\n",
    "    this_year['Value'] = data[str(year)]\n",
    "    years.append(this_year)\n",
    "data = pd.concat(years)\n",
    "\n",
    "# Get a couple of lines of data to make sure updated correctly\n",
    "print(data.info())"
   ]
  },
  {
   "cell_type": "code",
   "execution_count": 7,
   "metadata": {},
   "outputs": [
    {
     "name": "stdout",
     "output_type": "stream",
     "text": [
      "<class 'pandas.core.frame.DataFrame'>\n",
      "Int64Index: 558620 entries, 0 to 9009\n",
      "Data columns (total 6 columns):\n",
      " #   Column          Non-Null Count   Dtype  \n",
      "---  ------          --------------   -----  \n",
      " 0   Country Name    558620 non-null  object \n",
      " 1   Indicator Name  558620 non-null  object \n",
      " 2   Region          558620 non-null  object \n",
      " 3   IncomeGroup     558620 non-null  object \n",
      " 4   Year            558620 non-null  int64  \n",
      " 5   Value           200412 non-null  float64\n",
      "dtypes: float64(1), int64(1), object(4)\n",
      "memory usage: 29.8+ MB\n",
      "None\n"
     ]
    }
   ],
   "source": [
    "# Handle na values\n",
    "\n",
    "# Region\n",
    "data['Region'] = data['Region'].fillna('N/A')\n",
    "\n",
    "# Region\n",
    "data['IncomeGroup'] = data['IncomeGroup'].fillna('N/A')\n",
    "\n",
    "# Value: leave na values as na\n",
    "\n",
    "# Check to see if handled\n",
    "print(data.info())"
   ]
  },
  {
   "cell_type": "code",
   "execution_count": 8,
   "metadata": {},
   "outputs": [],
   "source": [
    "# Ensure values are cast correctly\n",
    "data['Country Name'] = data['Country Name'].astype(str)\n",
    "data['Indicator Name'] = data['Indicator Name'].astype(str)\n",
    "data['Region'] = data['Region'].astype(str)\n",
    "data['IncomeGroup'] = data['IncomeGroup'].astype(str)"
   ]
  },
  {
   "cell_type": "code",
   "execution_count": 9,
   "metadata": {},
   "outputs": [
    {
     "data": {
      "text/html": [
       "<div>\n",
       "<style scoped>\n",
       "    .dataframe tbody tr th:only-of-type {\n",
       "        vertical-align: middle;\n",
       "    }\n",
       "\n",
       "    .dataframe tbody tr th {\n",
       "        vertical-align: top;\n",
       "    }\n",
       "\n",
       "    .dataframe thead th {\n",
       "        text-align: right;\n",
       "    }\n",
       "</style>\n",
       "<table border=\"1\" class=\"dataframe\">\n",
       "  <thead>\n",
       "    <tr style=\"text-align: right;\">\n",
       "      <th></th>\n",
       "      <th>Country</th>\n",
       "      <th>Indicator</th>\n",
       "      <th>Region</th>\n",
       "      <th>IncomeGroup</th>\n",
       "      <th>Year</th>\n",
       "      <th>Value</th>\n",
       "    </tr>\n",
       "  </thead>\n",
       "  <tbody>\n",
       "    <tr>\n",
       "      <th>0</th>\n",
       "      <td>Aruba</td>\n",
       "      <td>Life expectancy at birth, male (years)</td>\n",
       "      <td>Latin America &amp; Caribbean</td>\n",
       "      <td>High income</td>\n",
       "      <td>1960</td>\n",
       "      <td>64.0840</td>\n",
       "    </tr>\n",
       "    <tr>\n",
       "      <th>1</th>\n",
       "      <td>Aruba</td>\n",
       "      <td>Life expectancy at birth, female (years)</td>\n",
       "      <td>Latin America &amp; Caribbean</td>\n",
       "      <td>High income</td>\n",
       "      <td>1960</td>\n",
       "      <td>67.1290</td>\n",
       "    </tr>\n",
       "    <tr>\n",
       "      <th>2</th>\n",
       "      <td>Aruba</td>\n",
       "      <td>Adolescent fertility rate (births per 1,000 wo...</td>\n",
       "      <td>Latin America &amp; Caribbean</td>\n",
       "      <td>High income</td>\n",
       "      <td>1960</td>\n",
       "      <td>106.2062</td>\n",
       "    </tr>\n",
       "    <tr>\n",
       "      <th>3</th>\n",
       "      <td>Aruba</td>\n",
       "      <td>Refugee population by country or territory of ...</td>\n",
       "      <td>Latin America &amp; Caribbean</td>\n",
       "      <td>High income</td>\n",
       "      <td>1960</td>\n",
       "      <td>NaN</td>\n",
       "    </tr>\n",
       "    <tr>\n",
       "      <th>4</th>\n",
       "      <td>Aruba</td>\n",
       "      <td>Refugee population by country or territory of ...</td>\n",
       "      <td>Latin America &amp; Caribbean</td>\n",
       "      <td>High income</td>\n",
       "      <td>1960</td>\n",
       "      <td>NaN</td>\n",
       "    </tr>\n",
       "  </tbody>\n",
       "</table>\n",
       "</div>"
      ],
      "text/plain": [
       "  Country                                          Indicator  \\\n",
       "0   Aruba             Life expectancy at birth, male (years)   \n",
       "1   Aruba           Life expectancy at birth, female (years)   \n",
       "2   Aruba  Adolescent fertility rate (births per 1,000 wo...   \n",
       "3   Aruba  Refugee population by country or territory of ...   \n",
       "4   Aruba  Refugee population by country or territory of ...   \n",
       "\n",
       "                      Region  IncomeGroup  Year     Value  \n",
       "0  Latin America & Caribbean  High income  1960   64.0840  \n",
       "1  Latin America & Caribbean  High income  1960   67.1290  \n",
       "2  Latin America & Caribbean  High income  1960  106.2062  \n",
       "3  Latin America & Caribbean  High income  1960       NaN  \n",
       "4  Latin America & Caribbean  High income  1960       NaN  "
      ]
     },
     "execution_count": 9,
     "metadata": {},
     "output_type": "execute_result"
    }
   ],
   "source": [
    "# Rename to get consistent scheming\n",
    "data = data.rename(columns={'Country Name': 'Country', 'Indicator Name': 'Indicator'})\n",
    "\n",
    "# Make sure changed\n",
    "data.head()"
   ]
  },
  {
   "cell_type": "markdown",
   "metadata": {},
   "source": [
    "### **(L)oad the Data:**\n",
    "The file is saved to: `data/data-cleaned.csv`"
   ]
  },
  {
   "cell_type": "code",
   "execution_count": 10,
   "metadata": {},
   "outputs": [],
   "source": [
    "# Save into new cleaned CSV file\n",
    "data.to_csv('data/data-cleaned.csv')"
   ]
  }
 ],
 "metadata": {
  "kernelspec": {
   "display_name": "Python 3.9.7 64-bit",
   "language": "python",
   "name": "python3"
  },
  "language_info": {
   "codemirror_mode": {
    "name": "ipython",
    "version": 3
   },
   "file_extension": ".py",
   "mimetype": "text/x-python",
   "name": "python",
   "nbconvert_exporter": "python",
   "pygments_lexer": "ipython3",
   "version": "3.9.7"
  },
  "orig_nbformat": 4,
  "vscode": {
   "interpreter": {
    "hash": "aee8b7b246df8f9039afb4144a1f6fd8d2ca17a180786b69acc140d282b71a49"
   }
  }
 },
 "nbformat": 4,
 "nbformat_minor": 2
}
